{
 "cells": [
  {
   "cell_type": "code",
   "execution_count": 398,
   "metadata": {},
   "outputs": [],
   "source": [
    "import pandas as pd\n",
    "import numpy as np\n",
    "import matplotlib.pyplot as plt\n",
    "\n",
    "import seaborn as sns\n",
    "\n",
    "%matplotlib inline"
   ]
  },
  {
   "cell_type": "code",
   "execution_count": 399,
   "metadata": {},
   "outputs": [],
   "source": [
    "df=pd.read_csv('NxtGenHealth.csv')"
   ]
  },
  {
   "cell_type": "code",
   "execution_count": 400,
   "metadata": {},
   "outputs": [
    {
     "data": {
      "text/html": [
       "<div>\n",
       "<style scoped>\n",
       "    .dataframe tbody tr th:only-of-type {\n",
       "        vertical-align: middle;\n",
       "    }\n",
       "\n",
       "    .dataframe tbody tr th {\n",
       "        vertical-align: top;\n",
       "    }\n",
       "\n",
       "    .dataframe thead th {\n",
       "        text-align: right;\n",
       "    }\n",
       "</style>\n",
       "<table border=\"1\" class=\"dataframe\">\n",
       "  <thead>\n",
       "    <tr style=\"text-align: right;\">\n",
       "      <th></th>\n",
       "      <th>Unnamed: 0</th>\n",
       "      <th>Age</th>\n",
       "      <th>Gender</th>\n",
       "      <th>Height (cm)</th>\n",
       "      <th>Weight (kg)</th>\n",
       "      <th>BMI</th>\n",
       "      <th>Physical Activity Level</th>\n",
       "      <th>Dietary Habits</th>\n",
       "      <th>Sleep Patterns</th>\n",
       "      <th>Stress Level</th>\n",
       "      <th>...</th>\n",
       "      <th>Medication Use</th>\n",
       "      <th>Alcohol Consumption</th>\n",
       "      <th>Tobacco Use</th>\n",
       "      <th>Blood Pressure (mmHg)</th>\n",
       "      <th>Glucose (mg/dL)</th>\n",
       "      <th>Heart Rate (bpm)</th>\n",
       "      <th>Temperature (°C)</th>\n",
       "      <th>Blood Test Parameters</th>\n",
       "      <th>Blood Test Date</th>\n",
       "      <th>Risk Score</th>\n",
       "    </tr>\n",
       "  </thead>\n",
       "  <tbody>\n",
       "    <tr>\n",
       "      <th>0</th>\n",
       "      <td>0</td>\n",
       "      <td>50</td>\n",
       "      <td>Female</td>\n",
       "      <td>162</td>\n",
       "      <td>95</td>\n",
       "      <td>36.2</td>\n",
       "      <td>Moderate</td>\n",
       "      <td>Balanced</td>\n",
       "      <td>8 hours</td>\n",
       "      <td>Moderate</td>\n",
       "      <td>...</td>\n",
       "      <td>Metformin</td>\n",
       "      <td>Occasionally</td>\n",
       "      <td>No</td>\n",
       "      <td>120/80</td>\n",
       "      <td>111</td>\n",
       "      <td>77</td>\n",
       "      <td>37.0</td>\n",
       "      <td>CBC, BMP, Glucose</td>\n",
       "      <td>2024-09-01</td>\n",
       "      <td>1.0</td>\n",
       "    </tr>\n",
       "    <tr>\n",
       "      <th>1</th>\n",
       "      <td>1</td>\n",
       "      <td>30</td>\n",
       "      <td>Female</td>\n",
       "      <td>187</td>\n",
       "      <td>86</td>\n",
       "      <td>24.6</td>\n",
       "      <td>Moderate</td>\n",
       "      <td>Vegetarian</td>\n",
       "      <td>7 hours</td>\n",
       "      <td>High</td>\n",
       "      <td>...</td>\n",
       "      <td>Insulin</td>\n",
       "      <td>No</td>\n",
       "      <td>Yes</td>\n",
       "      <td>140/90</td>\n",
       "      <td>73</td>\n",
       "      <td>75</td>\n",
       "      <td>37.2</td>\n",
       "      <td>CBC, BMP, Glucose</td>\n",
       "      <td>2024-09-02</td>\n",
       "      <td>1.0</td>\n",
       "    </tr>\n",
       "  </tbody>\n",
       "</table>\n",
       "<p>2 rows × 24 columns</p>\n",
       "</div>"
      ],
      "text/plain": [
       "   Unnamed: 0  Age  Gender  Height (cm)  Weight (kg)   BMI  \\\n",
       "0           0   50  Female          162           95  36.2   \n",
       "1           1   30  Female          187           86  24.6   \n",
       "\n",
       "  Physical Activity Level Dietary Habits Sleep Patterns Stress Level  ...  \\\n",
       "0                Moderate       Balanced        8 hours     Moderate  ...   \n",
       "1                Moderate     Vegetarian        7 hours         High  ...   \n",
       "\n",
       "  Medication Use Alcohol Consumption Tobacco Use Blood Pressure (mmHg)  \\\n",
       "0      Metformin        Occasionally          No                120/80   \n",
       "1        Insulin                  No         Yes                140/90   \n",
       "\n",
       "  Glucose (mg/dL) Heart Rate (bpm) Temperature (°C) Blood Test Parameters  \\\n",
       "0             111               77             37.0     CBC, BMP, Glucose   \n",
       "1              73               75             37.2     CBC, BMP, Glucose   \n",
       "\n",
       "   Blood Test Date  Risk Score  \n",
       "0       2024-09-01         1.0  \n",
       "1       2024-09-02         1.0  \n",
       "\n",
       "[2 rows x 24 columns]"
      ]
     },
     "execution_count": 400,
     "metadata": {},
     "output_type": "execute_result"
    }
   ],
   "source": [
    "df.head(2)"
   ]
  },
  {
   "cell_type": "code",
   "execution_count": 401,
   "metadata": {},
   "outputs": [],
   "source": [
    "df.drop('Unnamed: 0',axis=1,inplace=True)"
   ]
  },
  {
   "cell_type": "code",
   "execution_count": 402,
   "metadata": {},
   "outputs": [
    {
     "data": {
      "text/plain": [
       "Age                        0\n",
       "Gender                     0\n",
       "Height (cm)                0\n",
       "Weight (kg)                0\n",
       "BMI                        0\n",
       "Physical Activity Level    0\n",
       "Dietary Habits             0\n",
       "Sleep Patterns             0\n",
       "Stress Level               0\n",
       "Past Surgeries             8\n",
       "Chronic Conditions         3\n",
       "Family History             3\n",
       "Allergies                  5\n",
       "Medication Use             5\n",
       "Alcohol Consumption        0\n",
       "Tobacco Use                0\n",
       "Blood Pressure (mmHg)      0\n",
       "Glucose (mg/dL)            0\n",
       "Heart Rate (bpm)           0\n",
       "Temperature (°C)           0\n",
       "Blood Test Parameters      0\n",
       "Blood Test Date            0\n",
       "Risk Score                 0\n",
       "dtype: int64"
      ]
     },
     "execution_count": 402,
     "metadata": {},
     "output_type": "execute_result"
    }
   ],
   "source": [
    "df.isnull().sum()"
   ]
  },
  {
   "cell_type": "code",
   "execution_count": 403,
   "metadata": {},
   "outputs": [
    {
     "name": "stderr",
     "output_type": "stream",
     "text": [
      "C:\\Users\\GVS\\AppData\\Local\\Temp\\ipykernel_9820\\1240711665.py:2: FutureWarning: A value is trying to be set on a copy of a DataFrame or Series through chained assignment using an inplace method.\n",
      "The behavior will change in pandas 3.0. This inplace method will never work because the intermediate object on which we are setting values always behaves as a copy.\n",
      "\n",
      "For example, when doing 'df[col].method(value, inplace=True)', try using 'df.method({col: value}, inplace=True)' or df[col] = df[col].method(value) instead, to perform the operation inplace on the original object.\n",
      "\n",
      "\n",
      "  df['Past Surgeries'].replace(a,'1',inplace=True)\n"
     ]
    }
   ],
   "source": [
    "a=['Appendectomy','Knee Surgery','Gallbladder Removal']\n",
    "df['Past Surgeries'].replace(a,'1',inplace=True)"
   ]
  },
  {
   "cell_type": "code",
   "execution_count": 404,
   "metadata": {},
   "outputs": [],
   "source": [
    "df['Past Surgeries'].replace(np.nan,'0',inplace=True)"
   ]
  },
  {
   "cell_type": "code",
   "execution_count": 405,
   "metadata": {},
   "outputs": [],
   "source": [
    "df['Past Surgeries']=df['Past Surgeries'].astype(int)"
   ]
  },
  {
   "cell_type": "code",
   "execution_count": 406,
   "metadata": {},
   "outputs": [
    {
     "name": "stdout",
     "output_type": "stream",
     "text": [
      "<class 'pandas.core.frame.DataFrame'>\n",
      "RangeIndex: 20 entries, 0 to 19\n",
      "Data columns (total 23 columns):\n",
      " #   Column                   Non-Null Count  Dtype  \n",
      "---  ------                   --------------  -----  \n",
      " 0   Age                      20 non-null     int64  \n",
      " 1   Gender                   20 non-null     object \n",
      " 2   Height (cm)              20 non-null     int64  \n",
      " 3   Weight (kg)              20 non-null     int64  \n",
      " 4   BMI                      20 non-null     float64\n",
      " 5   Physical Activity Level  20 non-null     object \n",
      " 6   Dietary Habits           20 non-null     object \n",
      " 7   Sleep Patterns           20 non-null     object \n",
      " 8   Stress Level             20 non-null     object \n",
      " 9   Past Surgeries           20 non-null     int64  \n",
      " 10  Chronic Conditions       17 non-null     object \n",
      " 11  Family History           17 non-null     object \n",
      " 12  Allergies                15 non-null     object \n",
      " 13  Medication Use           15 non-null     object \n",
      " 14  Alcohol Consumption      20 non-null     object \n",
      " 15  Tobacco Use              20 non-null     object \n",
      " 16  Blood Pressure (mmHg)    20 non-null     object \n",
      " 17  Glucose (mg/dL)          20 non-null     int64  \n",
      " 18  Heart Rate (bpm)         20 non-null     int64  \n",
      " 19  Temperature (°C)         20 non-null     float64\n",
      " 20  Blood Test Parameters    20 non-null     object \n",
      " 21  Blood Test Date          20 non-null     object \n",
      " 22  Risk Score               20 non-null     float64\n",
      "dtypes: float64(3), int64(6), object(14)\n",
      "memory usage: 3.7+ KB\n"
     ]
    }
   ],
   "source": [
    "df.info()"
   ]
  },
  {
   "cell_type": "markdown",
   "metadata": {},
   "source": [
    "## Performing EDA and Feature Engineering Column Wise"
   ]
  },
  {
   "cell_type": "code",
   "execution_count": 407,
   "metadata": {},
   "outputs": [],
   "source": [
    "df_cp = df.copy()   ## Creating a copy"
   ]
  },
  {
   "cell_type": "code",
   "execution_count": 408,
   "metadata": {},
   "outputs": [
    {
     "name": "stdout",
     "output_type": "stream",
     "text": [
      "<class 'pandas.core.frame.DataFrame'>\n",
      "RangeIndex: 20 entries, 0 to 19\n",
      "Data columns (total 23 columns):\n",
      " #   Column                   Non-Null Count  Dtype  \n",
      "---  ------                   --------------  -----  \n",
      " 0   Age                      20 non-null     int64  \n",
      " 1   Gender                   20 non-null     object \n",
      " 2   Height (cm)              20 non-null     int64  \n",
      " 3   Weight (kg)              20 non-null     int64  \n",
      " 4   BMI                      20 non-null     float64\n",
      " 5   Physical Activity Level  20 non-null     object \n",
      " 6   Dietary Habits           20 non-null     object \n",
      " 7   Sleep Patterns           20 non-null     object \n",
      " 8   Stress Level             20 non-null     object \n",
      " 9   Past Surgeries           20 non-null     int64  \n",
      " 10  Chronic Conditions       17 non-null     object \n",
      " 11  Family History           17 non-null     object \n",
      " 12  Allergies                15 non-null     object \n",
      " 13  Medication Use           15 non-null     object \n",
      " 14  Alcohol Consumption      20 non-null     object \n",
      " 15  Tobacco Use              20 non-null     object \n",
      " 16  Blood Pressure (mmHg)    20 non-null     object \n",
      " 17  Glucose (mg/dL)          20 non-null     int64  \n",
      " 18  Heart Rate (bpm)         20 non-null     int64  \n",
      " 19  Temperature (°C)         20 non-null     float64\n",
      " 20  Blood Test Parameters    20 non-null     object \n",
      " 21  Blood Test Date          20 non-null     object \n",
      " 22  Risk Score               20 non-null     float64\n",
      "dtypes: float64(3), int64(6), object(14)\n",
      "memory usage: 3.7+ KB\n"
     ]
    }
   ],
   "source": [
    "df_cp.info()"
   ]
  },
  {
   "cell_type": "code",
   "execution_count": 409,
   "metadata": {},
   "outputs": [
    {
     "name": "stderr",
     "output_type": "stream",
     "text": [
      "C:\\Users\\GVS\\AppData\\Local\\Temp\\ipykernel_9820\\360016938.py:3: FutureWarning: A value is trying to be set on a copy of a DataFrame or Series through chained assignment using an inplace method.\n",
      "The behavior will change in pandas 3.0. This inplace method will never work because the intermediate object on which we are setting values always behaves as a copy.\n",
      "\n",
      "For example, when doing 'df[col].method(value, inplace=True)', try using 'df.method({col: value}, inplace=True)' or df[col] = df[col].method(value) instead, to perform the operation inplace on the original object.\n",
      "\n",
      "\n",
      "  df_cp['Gender'].replace({'Female':0,'Male':1},inplace=True)\n",
      "C:\\Users\\GVS\\AppData\\Local\\Temp\\ipykernel_9820\\360016938.py:3: FutureWarning: Downcasting behavior in `replace` is deprecated and will be removed in a future version. To retain the old behavior, explicitly call `result.infer_objects(copy=False)`. To opt-in to the future behavior, set `pd.set_option('future.no_silent_downcasting', True)`\n",
      "  df_cp['Gender'].replace({'Female':0,'Male':1},inplace=True)\n"
     ]
    }
   ],
   "source": [
    "## Gender \n",
    "\n",
    "df_cp['Gender'].replace({'Female':0,'Male':1},inplace=True)"
   ]
  },
  {
   "cell_type": "code",
   "execution_count": 410,
   "metadata": {},
   "outputs": [
    {
     "data": {
      "text/plain": [
       "0     162\n",
       "1     187\n",
       "2     183\n",
       "3     177\n",
       "4     178\n",
       "5     178\n",
       "6     187\n",
       "7     172\n",
       "8     152\n",
       "9     172\n",
       "10    154\n",
       "11    163\n",
       "12    170\n",
       "13    154\n",
       "14    181\n",
       "15    179\n",
       "16    173\n",
       "17    150\n",
       "18    171\n",
       "19    174\n",
       "Name: Height (cm), dtype: int64"
      ]
     },
     "execution_count": 410,
     "metadata": {},
     "output_type": "execute_result"
    }
   ],
   "source": [
    "df_cp['Height (cm)']"
   ]
  },
  {
   "cell_type": "code",
   "execution_count": 411,
   "metadata": {},
   "outputs": [
    {
     "data": {
      "text/plain": [
       "Physical Activity Level\n",
       "Moderate    9\n",
       "Low         7\n",
       "High        4\n",
       "Name: count, dtype: int64"
      ]
     },
     "execution_count": 411,
     "metadata": {},
     "output_type": "execute_result"
    }
   ],
   "source": [
    "## Performing on Physical Activity Level \n",
    "df['Physical Activity Level'].value_counts()"
   ]
  },
  {
   "cell_type": "code",
   "execution_count": 412,
   "metadata": {},
   "outputs": [
    {
     "data": {
      "text/plain": [
       "<Axes: xlabel='Physical Activity Level', ylabel='Count'>"
      ]
     },
     "execution_count": 412,
     "metadata": {},
     "output_type": "execute_result"
    },
    {
     "data": {
      "image/png": "[encoded data removed]",
      "text/plain": [
       "<Figure size 640x480 with 1 Axes>"
      ]
     },
     "metadata": {},
     "output_type": "display_data"
    }
   ],
   "source": [
    "sns.histplot(df['Physical Activity Level'],kde=True)"
   ]
  },
  {
   "cell_type": "code",
   "execution_count": 413,
   "metadata": {},
   "outputs": [
    {
     "name": "stderr",
     "output_type": "stream",
     "text": [
      "C:\\Users\\GVS\\AppData\\Local\\Temp\\ipykernel_9820\\1765801660.py:1: FutureWarning: A value is trying to be set on a copy of a DataFrame or Series through chained assignment using an inplace method.\n",
      "The behavior will change in pandas 3.0. This inplace method will never work because the intermediate object on which we are setting values always behaves as a copy.\n",
      "\n",
      "For example, when doing 'df[col].method(value, inplace=True)', try using 'df.method({col: value}, inplace=True)' or df[col] = df[col].method(value) instead, to perform the operation inplace on the original object.\n",
      "\n",
      "\n",
      "  df_cp['Physical Activity Level'].replace({'Low':0,'Moderate':1,'High':2},inplace=True)\n",
      "C:\\Users\\GVS\\AppData\\Local\\Temp\\ipykernel_9820\\1765801660.py:1: FutureWarning: Downcasting behavior in `replace` is deprecated and will be removed in a future version. To retain the old behavior, explicitly call `result.infer_objects(copy=False)`. To opt-in to the future behavior, set `pd.set_option('future.no_silent_downcasting', True)`\n",
      "  df_cp['Physical Activity Level'].replace({'Low':0,'Moderate':1,'High':2},inplace=True)\n"
     ]
    }
   ],
   "source": [
    "df_cp['Physical Activity Level'].replace({'Low':0,'Moderate':1,'High':2},inplace=True)"
   ]
  },
  {
   "cell_type": "code",
   "execution_count": 414,
   "metadata": {},
   "outputs": [
    {
     "data": {
      "text/plain": [
       "0     1\n",
       "1     1\n",
       "2     1\n",
       "3     1\n",
       "4     2\n",
       "5     0\n",
       "6     0\n",
       "7     1\n",
       "8     0\n",
       "9     1\n",
       "10    1\n",
       "11    2\n",
       "12    1\n",
       "13    0\n",
       "14    2\n",
       "15    0\n",
       "16    0\n",
       "17    2\n",
       "18    1\n",
       "19    0\n",
       "Name: Physical Activity Level, dtype: int64"
      ]
     },
     "execution_count": 414,
     "metadata": {},
     "output_type": "execute_result"
    }
   ],
   "source": [
    "df_cp['Physical Activity Level']"
   ]
  },
  {
   "cell_type": "code",
   "execution_count": 415,
   "metadata": {},
   "outputs": [
    {
     "data": {
      "text/plain": [
       "Dietary Habits\n",
       "Non-vegetarian    9\n",
       "Balanced          6\n",
       "Vegetarian        5\n",
       "Name: count, dtype: int64"
      ]
     },
     "execution_count": 415,
     "metadata": {},
     "output_type": "execute_result"
    }
   ],
   "source": [
    "df_cp['Dietary Habits'].value_counts()"
   ]
  },
  {
   "cell_type": "code",
   "execution_count": 416,
   "metadata": {},
   "outputs": [
    {
     "name": "stderr",
     "output_type": "stream",
     "text": [
      "C:\\Users\\GVS\\AppData\\Local\\Temp\\ipykernel_9820\\3357723457.py:1: FutureWarning: Downcasting behavior in `replace` is deprecated and will be removed in a future version. To retain the old behavior, explicitly call `result.infer_objects(copy=False)`. To opt-in to the future behavior, set `pd.set_option('future.no_silent_downcasting', True)`\n",
      "  df_cp['Dietary Habits']=df_cp['Dietary Habits'].replace({'Vegetarian':0,'Balanced':1,'Non-vegetarian':2})\n"
     ]
    }
   ],
   "source": [
    "df_cp['Dietary Habits']=df_cp['Dietary Habits'].replace({'Vegetarian':0,'Balanced':1,'Non-vegetarian':2})"
   ]
  },
  {
   "cell_type": "code",
   "execution_count": 417,
   "metadata": {},
   "outputs": [
    {
     "data": {
      "text/plain": [
       "0     1\n",
       "1     0\n",
       "2     2\n",
       "3     0\n",
       "4     0\n",
       "5     1\n",
       "6     2\n",
       "7     1\n",
       "8     2\n",
       "9     2\n",
       "10    2\n",
       "11    0\n",
       "12    2\n",
       "13    2\n",
       "14    1\n",
       "15    0\n",
       "16    2\n",
       "17    2\n",
       "18    1\n",
       "19    1\n",
       "Name: Dietary Habits, dtype: int64"
      ]
     },
     "execution_count": 417,
     "metadata": {},
     "output_type": "execute_result"
    }
   ],
   "source": [
    "df_cp['Dietary Habits']"
   ]
  },
  {
   "cell_type": "code",
   "execution_count": 418,
   "metadata": {},
   "outputs": [
    {
     "name": "stdout",
     "output_type": "stream",
     "text": [
      "<class 'pandas.core.frame.DataFrame'>\n",
      "RangeIndex: 20 entries, 0 to 19\n",
      "Data columns (total 23 columns):\n",
      " #   Column                   Non-Null Count  Dtype  \n",
      "---  ------                   --------------  -----  \n",
      " 0   Age                      20 non-null     int64  \n",
      " 1   Gender                   20 non-null     int64  \n",
      " 2   Height (cm)              20 non-null     int64  \n",
      " 3   Weight (kg)              20 non-null     int64  \n",
      " 4   BMI                      20 non-null     float64\n",
      " 5   Physical Activity Level  20 non-null     int64  \n",
      " 6   Dietary Habits           20 non-null     int64  \n",
      " 7   Sleep Patterns           20 non-null     object \n",
      " 8   Stress Level             20 non-null     object \n",
      " 9   Past Surgeries           20 non-null     int64  \n",
      " 10  Chronic Conditions       17 non-null     object \n",
      " 11  Family History           17 non-null     object \n",
      " 12  Allergies                15 non-null     object \n",
      " 13  Medication Use           15 non-null     object \n",
      " 14  Alcohol Consumption      20 non-null     object \n",
      " 15  Tobacco Use              20 non-null     object \n",
      " 16  Blood Pressure (mmHg)    20 non-null     object \n",
      " 17  Glucose (mg/dL)          20 non-null     int64  \n",
      " 18  Heart Rate (bpm)         20 non-null     int64  \n",
      " 19  Temperature (°C)         20 non-null     float64\n",
      " 20  Blood Test Parameters    20 non-null     object \n",
      " 21  Blood Test Date          20 non-null     object \n",
      " 22  Risk Score               20 non-null     float64\n",
      "dtypes: float64(3), int64(9), object(11)\n",
      "memory usage: 3.7+ KB\n"
     ]
    }
   ],
   "source": [
    "df_cp.info()"
   ]
  },
  {
   "cell_type": "code",
   "execution_count": 419,
   "metadata": {},
   "outputs": [],
   "source": [
    "df_cp['Sleep Patterns']=df_cp['Sleep Patterns'].str.split(' ')[0][0]"
   ]
  },
  {
   "cell_type": "code",
   "execution_count": 420,
   "metadata": {},
   "outputs": [],
   "source": [
    "df_cp['Sleep Patterns']=df_cp['Sleep Patterns'].astype(int)"
   ]
  },
  {
   "cell_type": "code",
   "execution_count": 421,
   "metadata": {},
   "outputs": [
    {
     "name": "stdout",
     "output_type": "stream",
     "text": [
      "<class 'pandas.core.frame.DataFrame'>\n",
      "RangeIndex: 20 entries, 0 to 19\n",
      "Data columns (total 23 columns):\n",
      " #   Column                   Non-Null Count  Dtype  \n",
      "---  ------                   --------------  -----  \n",
      " 0   Age                      20 non-null     int64  \n",
      " 1   Gender                   20 non-null     int64  \n",
      " 2   Height (cm)              20 non-null     int64  \n",
      " 3   Weight (kg)              20 non-null     int64  \n",
      " 4   BMI                      20 non-null     float64\n",
      " 5   Physical Activity Level  20 non-null     int64  \n",
      " 6   Dietary Habits           20 non-null     int64  \n",
      " 7   Sleep Patterns           20 non-null     int64  \n",
      " 8   Stress Level             20 non-null     object \n",
      " 9   Past Surgeries           20 non-null     int64  \n",
      " 10  Chronic Conditions       17 non-null     object \n",
      " 11  Family History           17 non-null     object \n",
      " 12  Allergies                15 non-null     object \n",
      " 13  Medication Use           15 non-null     object \n",
      " 14  Alcohol Consumption      20 non-null     object \n",
      " 15  Tobacco Use              20 non-null     object \n",
      " 16  Blood Pressure (mmHg)    20 non-null     object \n",
      " 17  Glucose (mg/dL)          20 non-null     int64  \n",
      " 18  Heart Rate (bpm)         20 non-null     int64  \n",
      " 19  Temperature (°C)         20 non-null     float64\n",
      " 20  Blood Test Parameters    20 non-null     object \n",
      " 21  Blood Test Date          20 non-null     object \n",
      " 22  Risk Score               20 non-null     float64\n",
      "dtypes: float64(3), int64(10), object(10)\n",
      "memory usage: 3.7+ KB\n"
     ]
    }
   ],
   "source": [
    "df_cp.info()"
   ]
  },
  {
   "cell_type": "code",
   "execution_count": 422,
   "metadata": {},
   "outputs": [
    {
     "name": "stderr",
     "output_type": "stream",
     "text": [
      "C:\\Users\\GVS\\AppData\\Local\\Temp\\ipykernel_9820\\2347465802.py:1: FutureWarning: A value is trying to be set on a copy of a DataFrame or Series through chained assignment using an inplace method.\n",
      "The behavior will change in pandas 3.0. This inplace method will never work because the intermediate object on which we are setting values always behaves as a copy.\n",
      "\n",
      "For example, when doing 'df[col].method(value, inplace=True)', try using 'df.method({col: value}, inplace=True)' or df[col] = df[col].method(value) instead, to perform the operation inplace on the original object.\n",
      "\n",
      "\n",
      "  df_cp['Stress Level'].replace({'Low':0,'Moderate':1,'High':2},inplace=True)\n",
      "C:\\Users\\GVS\\AppData\\Local\\Temp\\ipykernel_9820\\2347465802.py:1: FutureWarning: Downcasting behavior in `replace` is deprecated and will be removed in a future version. To retain the old behavior, explicitly call `result.infer_objects(copy=False)`. To opt-in to the future behavior, set `pd.set_option('future.no_silent_downcasting', True)`\n",
      "  df_cp['Stress Level'].replace({'Low':0,'Moderate':1,'High':2},inplace=True)\n"
     ]
    }
   ],
   "source": [
    "df_cp['Stress Level'].replace({'Low':0,'Moderate':1,'High':2},inplace=True)"
   ]
  },
  {
   "cell_type": "code",
   "execution_count": 423,
   "metadata": {},
   "outputs": [
    {
     "name": "stdout",
     "output_type": "stream",
     "text": [
      "<class 'pandas.core.frame.DataFrame'>\n",
      "RangeIndex: 20 entries, 0 to 19\n",
      "Data columns (total 23 columns):\n",
      " #   Column                   Non-Null Count  Dtype  \n",
      "---  ------                   --------------  -----  \n",
      " 0   Age                      20 non-null     int64  \n",
      " 1   Gender                   20 non-null     int64  \n",
      " 2   Height (cm)              20 non-null     int64  \n",
      " 3   Weight (kg)              20 non-null     int64  \n",
      " 4   BMI                      20 non-null     float64\n",
      " 5   Physical Activity Level  20 non-null     int64  \n",
      " 6   Dietary Habits           20 non-null     int64  \n",
      " 7   Sleep Patterns           20 non-null     int64  \n",
      " 8   Stress Level             20 non-null     int64  \n",
      " 9   Past Surgeries           20 non-null     int64  \n",
      " 10  Chronic Conditions       17 non-null     object \n",
      " 11  Family History           17 non-null     object \n",
      " 12  Allergies                15 non-null     object \n",
      " 13  Medication Use           15 non-null     object \n",
      " 14  Alcohol Consumption      20 non-null     object \n",
      " 15  Tobacco Use              20 non-null     object \n",
      " 16  Blood Pressure (mmHg)    20 non-null     object \n",
      " 17  Glucose (mg/dL)          20 non-null     int64  \n",
      " 18  Heart Rate (bpm)         20 non-null     int64  \n",
      " 19  Temperature (°C)         20 non-null     float64\n",
      " 20  Blood Test Parameters    20 non-null     object \n",
      " 21  Blood Test Date          20 non-null     object \n",
      " 22  Risk Score               20 non-null     float64\n",
      "dtypes: float64(3), int64(11), object(9)\n",
      "memory usage: 3.7+ KB\n"
     ]
    }
   ],
   "source": [
    "df_cp.info()"
   ]
  },
  {
   "cell_type": "code",
   "execution_count": 424,
   "metadata": {},
   "outputs": [],
   "source": [
    "df_cp['Chronic Conditions']=df_cp['Chronic Conditions'].fillna('No')"
   ]
  },
  {
   "cell_type": "code",
   "execution_count": 425,
   "metadata": {},
   "outputs": [
    {
     "data": {
      "text/plain": [
       "array(['Diabetes', 'Hypertension', 'Asthma', 'No'], dtype=object)"
      ]
     },
     "execution_count": 425,
     "metadata": {},
     "output_type": "execute_result"
    }
   ],
   "source": [
    "df_cp['Chronic Conditions'].unique()"
   ]
  },
  {
   "cell_type": "code",
   "execution_count": 426,
   "metadata": {},
   "outputs": [],
   "source": [
    "from sklearn.preprocessing import OrdinalEncoder\n",
    "\n",
    "ordinal = OrdinalEncoder(categories=[[ 'No','Diabetes', 'Hypertension', 'Asthma']])"
   ]
  },
  {
   "cell_type": "code",
   "execution_count": 427,
   "metadata": {},
   "outputs": [],
   "source": [
    "a=ordinal.fit_transform(df_cp[['Chronic Conditions']])"
   ]
  },
  {
   "cell_type": "code",
   "execution_count": 428,
   "metadata": {},
   "outputs": [],
   "source": [
    "a=pd.DataFrame(a)"
   ]
  },
  {
   "cell_type": "code",
   "execution_count": 429,
   "metadata": {},
   "outputs": [],
   "source": [
    "df_cp['Chronic Conditions']=a\n",
    "\n"
   ]
  },
  {
   "cell_type": "code",
   "execution_count": 430,
   "metadata": {},
   "outputs": [
    {
     "name": "stdout",
     "output_type": "stream",
     "text": [
      "<class 'pandas.core.frame.DataFrame'>\n",
      "RangeIndex: 20 entries, 0 to 19\n",
      "Data columns (total 23 columns):\n",
      " #   Column                   Non-Null Count  Dtype  \n",
      "---  ------                   --------------  -----  \n",
      " 0   Age                      20 non-null     int64  \n",
      " 1   Gender                   20 non-null     int64  \n",
      " 2   Height (cm)              20 non-null     int64  \n",
      " 3   Weight (kg)              20 non-null     int64  \n",
      " 4   BMI                      20 non-null     float64\n",
      " 5   Physical Activity Level  20 non-null     int64  \n",
      " 6   Dietary Habits           20 non-null     int64  \n",
      " 7   Sleep Patterns           20 non-null     int64  \n",
      " 8   Stress Level             20 non-null     int64  \n",
      " 9   Past Surgeries           20 non-null     int64  \n",
      " 10  Chronic Conditions       20 non-null     float64\n",
      " 11  Family History           17 non-null     object \n",
      " 12  Allergies                15 non-null     object \n",
      " 13  Medication Use           15 non-null     object \n",
      " 14  Alcohol Consumption      20 non-null     object \n",
      " 15  Tobacco Use              20 non-null     object \n",
      " 16  Blood Pressure (mmHg)    20 non-null     object \n",
      " 17  Glucose (mg/dL)          20 non-null     int64  \n",
      " 18  Heart Rate (bpm)         20 non-null     int64  \n",
      " 19  Temperature (°C)         20 non-null     float64\n",
      " 20  Blood Test Parameters    20 non-null     object \n",
      " 21  Blood Test Date          20 non-null     object \n",
      " 22  Risk Score               20 non-null     float64\n",
      "dtypes: float64(4), int64(11), object(8)\n",
      "memory usage: 3.7+ KB\n"
     ]
    }
   ],
   "source": [
    "df_cp.info()"
   ]
  },
  {
   "cell_type": "code",
   "execution_count": 431,
   "metadata": {},
   "outputs": [],
   "source": [
    "df_cp['Family History']=df_cp['Family History'].replace(np.nan,\"Clean\")"
   ]
  },
  {
   "cell_type": "code",
   "execution_count": 432,
   "metadata": {},
   "outputs": [
    {
     "data": {
      "text/plain": [
       "array(['Heart Disease', 'Hypertension', 'Diabetes', 'Clean'], dtype=object)"
      ]
     },
     "execution_count": 432,
     "metadata": {},
     "output_type": "execute_result"
    }
   ],
   "source": [
    "df_cp['Family History'].unique()"
   ]
  },
  {
   "cell_type": "code",
   "execution_count": 433,
   "metadata": {},
   "outputs": [],
   "source": [
    "df_cp.drop(['Family History'],axis=1,inplace=True)"
   ]
  },
  {
   "cell_type": "code",
   "execution_count": 434,
   "metadata": {},
   "outputs": [
    {
     "name": "stdout",
     "output_type": "stream",
     "text": [
      "<class 'pandas.core.frame.DataFrame'>\n",
      "RangeIndex: 20 entries, 0 to 19\n",
      "Data columns (total 22 columns):\n",
      " #   Column                   Non-Null Count  Dtype  \n",
      "---  ------                   --------------  -----  \n",
      " 0   Age                      20 non-null     int64  \n",
      " 1   Gender                   20 non-null     int64  \n",
      " 2   Height (cm)              20 non-null     int64  \n",
      " 3   Weight (kg)              20 non-null     int64  \n",
      " 4   BMI                      20 non-null     float64\n",
      " 5   Physical Activity Level  20 non-null     int64  \n",
      " 6   Dietary Habits           20 non-null     int64  \n",
      " 7   Sleep Patterns           20 non-null     int64  \n",
      " 8   Stress Level             20 non-null     int64  \n",
      " 9   Past Surgeries           20 non-null     int64  \n",
      " 10  Chronic Conditions       20 non-null     float64\n",
      " 11  Allergies                15 non-null     object \n",
      " 12  Medication Use           15 non-null     object \n",
      " 13  Alcohol Consumption      20 non-null     object \n",
      " 14  Tobacco Use              20 non-null     object \n",
      " 15  Blood Pressure (mmHg)    20 non-null     object \n",
      " 16  Glucose (mg/dL)          20 non-null     int64  \n",
      " 17  Heart Rate (bpm)         20 non-null     int64  \n",
      " 18  Temperature (°C)         20 non-null     float64\n",
      " 19  Blood Test Parameters    20 non-null     object \n",
      " 20  Blood Test Date          20 non-null     object \n",
      " 21  Risk Score               20 non-null     float64\n",
      "dtypes: float64(4), int64(11), object(7)\n",
      "memory usage: 3.6+ KB\n"
     ]
    }
   ],
   "source": [
    "df_cp.info()"
   ]
  },
  {
   "cell_type": "code",
   "execution_count": 435,
   "metadata": {},
   "outputs": [],
   "source": [
    "df_cp['Allergies']=df_cp['Allergies'].fillna('No')"
   ]
  },
  {
   "cell_type": "code",
   "execution_count": 436,
   "metadata": {},
   "outputs": [
    {
     "data": {
      "text/plain": [
       "array(['Pollen', 'No', 'Food Allergies', 'Penicillin'], dtype=object)"
      ]
     },
     "execution_count": 436,
     "metadata": {},
     "output_type": "execute_result"
    }
   ],
   "source": [
    "df_cp['Allergies'].unique()"
   ]
  },
  {
   "cell_type": "code",
   "execution_count": 437,
   "metadata": {},
   "outputs": [],
   "source": [
    "from sklearn.preprocessing import OrdinalEncoder\n",
    "\n",
    "ordinal = OrdinalEncoder(categories=[['No','Food Allergies','Pollen','Penicillin']])"
   ]
  },
  {
   "cell_type": "code",
   "execution_count": 438,
   "metadata": {},
   "outputs": [],
   "source": [
    "a=ordinal.fit_transform(df_cp[['Allergies']])"
   ]
  },
  {
   "cell_type": "code",
   "execution_count": 439,
   "metadata": {},
   "outputs": [],
   "source": [
    "df_cp['Allergies']=pd.DataFrame(a)\n",
    "df_cp['Allergies']=df_cp['Allergies'].astype(int)"
   ]
  },
  {
   "cell_type": "code",
   "execution_count": 440,
   "metadata": {},
   "outputs": [
    {
     "name": "stdout",
     "output_type": "stream",
     "text": [
      "<class 'pandas.core.frame.DataFrame'>\n",
      "RangeIndex: 20 entries, 0 to 19\n",
      "Data columns (total 22 columns):\n",
      " #   Column                   Non-Null Count  Dtype  \n",
      "---  ------                   --------------  -----  \n",
      " 0   Age                      20 non-null     int64  \n",
      " 1   Gender                   20 non-null     int64  \n",
      " 2   Height (cm)              20 non-null     int64  \n",
      " 3   Weight (kg)              20 non-null     int64  \n",
      " 4   BMI                      20 non-null     float64\n",
      " 5   Physical Activity Level  20 non-null     int64  \n",
      " 6   Dietary Habits           20 non-null     int64  \n",
      " 7   Sleep Patterns           20 non-null     int64  \n",
      " 8   Stress Level             20 non-null     int64  \n",
      " 9   Past Surgeries           20 non-null     int64  \n",
      " 10  Chronic Conditions       20 non-null     float64\n",
      " 11  Allergies                20 non-null     int64  \n",
      " 12  Medication Use           15 non-null     object \n",
      " 13  Alcohol Consumption      20 non-null     object \n",
      " 14  Tobacco Use              20 non-null     object \n",
      " 15  Blood Pressure (mmHg)    20 non-null     object \n",
      " 16  Glucose (mg/dL)          20 non-null     int64  \n",
      " 17  Heart Rate (bpm)         20 non-null     int64  \n",
      " 18  Temperature (°C)         20 non-null     float64\n",
      " 19  Blood Test Parameters    20 non-null     object \n",
      " 20  Blood Test Date          20 non-null     object \n",
      " 21  Risk Score               20 non-null     float64\n",
      "dtypes: float64(4), int64(12), object(6)\n",
      "memory usage: 3.6+ KB\n"
     ]
    }
   ],
   "source": [
    "df_cp.info()"
   ]
  },
  {
   "cell_type": "code",
   "execution_count": 441,
   "metadata": {},
   "outputs": [],
   "source": [
    "df_cp.drop(['Medication Use'],inplace=True,axis=1)"
   ]
  },
  {
   "cell_type": "code",
   "execution_count": 442,
   "metadata": {},
   "outputs": [
    {
     "data": {
      "text/plain": [
       "array(['Occasionally', 'No', 'Regularly'], dtype=object)"
      ]
     },
     "execution_count": 442,
     "metadata": {},
     "output_type": "execute_result"
    }
   ],
   "source": [
    "df_cp['Alcohol Consumption'].unique()"
   ]
  },
  {
   "cell_type": "code",
   "execution_count": 443,
   "metadata": {},
   "outputs": [
    {
     "data": {
      "text/html": [
       "<div>\n",
       "<style scoped>\n",
       "    .dataframe tbody tr th:only-of-type {\n",
       "        vertical-align: middle;\n",
       "    }\n",
       "\n",
       "    .dataframe tbody tr th {\n",
       "        vertical-align: top;\n",
       "    }\n",
       "\n",
       "    .dataframe thead th {\n",
       "        text-align: right;\n",
       "    }\n",
       "</style>\n",
       "<table border=\"1\" class=\"dataframe\">\n",
       "  <thead>\n",
       "    <tr style=\"text-align: right;\">\n",
       "      <th></th>\n",
       "      <th>Age</th>\n",
       "      <th>Gender</th>\n",
       "      <th>Height (cm)</th>\n",
       "      <th>Weight (kg)</th>\n",
       "      <th>BMI</th>\n",
       "      <th>Physical Activity Level</th>\n",
       "      <th>Dietary Habits</th>\n",
       "      <th>Sleep Patterns</th>\n",
       "      <th>Stress Level</th>\n",
       "      <th>Past Surgeries</th>\n",
       "      <th>...</th>\n",
       "      <th>Allergies</th>\n",
       "      <th>Alcohol Consumption</th>\n",
       "      <th>Tobacco Use</th>\n",
       "      <th>Blood Pressure (mmHg)</th>\n",
       "      <th>Glucose (mg/dL)</th>\n",
       "      <th>Heart Rate (bpm)</th>\n",
       "      <th>Temperature (°C)</th>\n",
       "      <th>Blood Test Parameters</th>\n",
       "      <th>Blood Test Date</th>\n",
       "      <th>Risk Score</th>\n",
       "    </tr>\n",
       "  </thead>\n",
       "  <tbody>\n",
       "    <tr>\n",
       "      <th>0</th>\n",
       "      <td>50</td>\n",
       "      <td>0</td>\n",
       "      <td>162</td>\n",
       "      <td>95</td>\n",
       "      <td>36.2</td>\n",
       "      <td>1</td>\n",
       "      <td>1</td>\n",
       "      <td>8</td>\n",
       "      <td>1</td>\n",
       "      <td>1</td>\n",
       "      <td>...</td>\n",
       "      <td>2</td>\n",
       "      <td>Occasionally</td>\n",
       "      <td>No</td>\n",
       "      <td>120/80</td>\n",
       "      <td>111</td>\n",
       "      <td>77</td>\n",
       "      <td>37.0</td>\n",
       "      <td>CBC, BMP, Glucose</td>\n",
       "      <td>2024-09-01</td>\n",
       "      <td>1.0</td>\n",
       "    </tr>\n",
       "    <tr>\n",
       "      <th>1</th>\n",
       "      <td>30</td>\n",
       "      <td>0</td>\n",
       "      <td>187</td>\n",
       "      <td>86</td>\n",
       "      <td>24.6</td>\n",
       "      <td>1</td>\n",
       "      <td>0</td>\n",
       "      <td>8</td>\n",
       "      <td>2</td>\n",
       "      <td>0</td>\n",
       "      <td>...</td>\n",
       "      <td>0</td>\n",
       "      <td>No</td>\n",
       "      <td>Yes</td>\n",
       "      <td>140/90</td>\n",
       "      <td>73</td>\n",
       "      <td>75</td>\n",
       "      <td>37.2</td>\n",
       "      <td>CBC, BMP, Glucose</td>\n",
       "      <td>2024-09-02</td>\n",
       "      <td>1.0</td>\n",
       "    </tr>\n",
       "  </tbody>\n",
       "</table>\n",
       "<p>2 rows × 21 columns</p>\n",
       "</div>"
      ],
      "text/plain": [
       "   Age  Gender  Height (cm)  Weight (kg)   BMI  Physical Activity Level  \\\n",
       "0   50       0          162           95  36.2                        1   \n",
       "1   30       0          187           86  24.6                        1   \n",
       "\n",
       "   Dietary Habits  Sleep Patterns  Stress Level  Past Surgeries  ...  \\\n",
       "0               1               8             1               1  ...   \n",
       "1               0               8             2               0  ...   \n",
       "\n",
       "   Allergies  Alcohol Consumption Tobacco Use Blood Pressure (mmHg)  \\\n",
       "0          2         Occasionally          No                120/80   \n",
       "1          0                   No         Yes                140/90   \n",
       "\n",
       "  Glucose (mg/dL)  Heart Rate (bpm)  Temperature (°C)  Blood Test Parameters  \\\n",
       "0             111                77              37.0      CBC, BMP, Glucose   \n",
       "1              73                75              37.2      CBC, BMP, Glucose   \n",
       "\n",
       "  Blood Test Date Risk Score  \n",
       "0      2024-09-01        1.0  \n",
       "1      2024-09-02        1.0  \n",
       "\n",
       "[2 rows x 21 columns]"
      ]
     },
     "execution_count": 443,
     "metadata": {},
     "output_type": "execute_result"
    }
   ],
   "source": [
    "df_cp.head(2)"
   ]
  },
  {
   "cell_type": "code",
   "execution_count": 444,
   "metadata": {},
   "outputs": [],
   "source": [
    "from sklearn.preprocessing import OrdinalEncoder\n",
    "\n",
    "ordinal = OrdinalEncoder(categories=[['No','Occasionally','Regularly']])"
   ]
  },
  {
   "cell_type": "code",
   "execution_count": 445,
   "metadata": {},
   "outputs": [],
   "source": [
    "a=ordinal.fit_transform(df[['Alcohol Consumption']])"
   ]
  },
  {
   "cell_type": "code",
   "execution_count": 446,
   "metadata": {},
   "outputs": [],
   "source": [
    "df_cp['Alcohol Consumption']=pd.DataFrame(a)\n",
    "df_cp['Alcohol Consumption']=df_cp['Alcohol Consumption'].astype(int)"
   ]
  },
  {
   "cell_type": "code",
   "execution_count": 447,
   "metadata": {},
   "outputs": [
    {
     "data": {
      "text/plain": [
       "array(['No', 'Yes'], dtype=object)"
      ]
     },
     "execution_count": 447,
     "metadata": {},
     "output_type": "execute_result"
    }
   ],
   "source": [
    "df_cp['Tobacco Use'].unique()\n"
   ]
  },
  {
   "cell_type": "code",
   "execution_count": 448,
   "metadata": {},
   "outputs": [],
   "source": [
    "from sklearn.preprocessing import OrdinalEncoder\n",
    "\n",
    "ordinal = OrdinalEncoder(categories=[['No','Yes']])"
   ]
  },
  {
   "cell_type": "code",
   "execution_count": 449,
   "metadata": {},
   "outputs": [],
   "source": [
    "a=ordinal.fit_transform(df[['Tobacco Use']])"
   ]
  },
  {
   "cell_type": "code",
   "execution_count": 450,
   "metadata": {},
   "outputs": [],
   "source": [
    "df_cp['Tobacco Use'] = pd.DataFrame(a)\n"
   ]
  },
  {
   "cell_type": "code",
   "execution_count": 451,
   "metadata": {},
   "outputs": [
    {
     "name": "stdout",
     "output_type": "stream",
     "text": [
      "<class 'pandas.core.frame.DataFrame'>\n",
      "RangeIndex: 20 entries, 0 to 19\n",
      "Data columns (total 21 columns):\n",
      " #   Column                   Non-Null Count  Dtype  \n",
      "---  ------                   --------------  -----  \n",
      " 0   Age                      20 non-null     int64  \n",
      " 1   Gender                   20 non-null     int64  \n",
      " 2   Height (cm)              20 non-null     int64  \n",
      " 3   Weight (kg)              20 non-null     int64  \n",
      " 4   BMI                      20 non-null     float64\n",
      " 5   Physical Activity Level  20 non-null     int64  \n",
      " 6   Dietary Habits           20 non-null     int64  \n",
      " 7   Sleep Patterns           20 non-null     int64  \n",
      " 8   Stress Level             20 non-null     int64  \n",
      " 9   Past Surgeries           20 non-null     int64  \n",
      " 10  Chronic Conditions       20 non-null     float64\n",
      " 11  Allergies                20 non-null     int64  \n",
      " 12  Alcohol Consumption      20 non-null     int64  \n",
      " 13  Tobacco Use              20 non-null     float64\n",
      " 14  Blood Pressure (mmHg)    20 non-null     object \n",
      " 15  Glucose (mg/dL)          20 non-null     int64  \n",
      " 16  Heart Rate (bpm)         20 non-null     int64  \n",
      " 17  Temperature (°C)         20 non-null     float64\n",
      " 18  Blood Test Parameters    20 non-null     object \n",
      " 19  Blood Test Date          20 non-null     object \n",
      " 20  Risk Score               20 non-null     float64\n",
      "dtypes: float64(5), int64(13), object(3)\n",
      "memory usage: 3.4+ KB\n"
     ]
    }
   ],
   "source": [
    "df_cp.info()"
   ]
  },
  {
   "cell_type": "code",
   "execution_count": 452,
   "metadata": {},
   "outputs": [],
   "source": [
    "df_cp['Tobacco Use']=df_cp['Tobacco Use'].astype(int)"
   ]
  },
  {
   "cell_type": "code",
   "execution_count": 453,
   "metadata": {},
   "outputs": [
    {
     "name": "stdout",
     "output_type": "stream",
     "text": [
      "<class 'pandas.core.frame.DataFrame'>\n",
      "RangeIndex: 20 entries, 0 to 19\n",
      "Data columns (total 21 columns):\n",
      " #   Column                   Non-Null Count  Dtype  \n",
      "---  ------                   --------------  -----  \n",
      " 0   Age                      20 non-null     int64  \n",
      " 1   Gender                   20 non-null     int64  \n",
      " 2   Height (cm)              20 non-null     int64  \n",
      " 3   Weight (kg)              20 non-null     int64  \n",
      " 4   BMI                      20 non-null     float64\n",
      " 5   Physical Activity Level  20 non-null     int64  \n",
      " 6   Dietary Habits           20 non-null     int64  \n",
      " 7   Sleep Patterns           20 non-null     int64  \n",
      " 8   Stress Level             20 non-null     int64  \n",
      " 9   Past Surgeries           20 non-null     int64  \n",
      " 10  Chronic Conditions       20 non-null     float64\n",
      " 11  Allergies                20 non-null     int64  \n",
      " 12  Alcohol Consumption      20 non-null     int64  \n",
      " 13  Tobacco Use              20 non-null     int64  \n",
      " 14  Blood Pressure (mmHg)    20 non-null     object \n",
      " 15  Glucose (mg/dL)          20 non-null     int64  \n",
      " 16  Heart Rate (bpm)         20 non-null     int64  \n",
      " 17  Temperature (°C)         20 non-null     float64\n",
      " 18  Blood Test Parameters    20 non-null     object \n",
      " 19  Blood Test Date          20 non-null     object \n",
      " 20  Risk Score               20 non-null     float64\n",
      "dtypes: float64(4), int64(14), object(3)\n",
      "memory usage: 3.4+ KB\n"
     ]
    }
   ],
   "source": [
    "df_cp.info()"
   ]
  },
  {
   "cell_type": "code",
   "execution_count": 454,
   "metadata": {},
   "outputs": [],
   "source": [
    "df_cp['Blood Pressure (mm)']=df_cp['Blood Pressure (mmHg)'].str.split('/')[0][0]\n",
    "df_cp['Blood Pressure (mm)']=df_cp['Blood Pressure (mm)'].astype(int)"
   ]
  },
  {
   "cell_type": "code",
   "execution_count": 455,
   "metadata": {},
   "outputs": [],
   "source": [
    "df_cp['Blood Pressure (Hg)']=df_cp['Blood Pressure (mmHg)'].str.split('/')[0][1]\n"
   ]
  },
  {
   "cell_type": "code",
   "execution_count": 456,
   "metadata": {},
   "outputs": [],
   "source": [
    "df_cp.drop(['Blood Pressure (mmHg)'],inplace=True,axis=1)"
   ]
  },
  {
   "cell_type": "code",
   "execution_count": 457,
   "metadata": {},
   "outputs": [
    {
     "name": "stdout",
     "output_type": "stream",
     "text": [
      "<class 'pandas.core.frame.DataFrame'>\n",
      "RangeIndex: 20 entries, 0 to 19\n",
      "Data columns (total 22 columns):\n",
      " #   Column                   Non-Null Count  Dtype  \n",
      "---  ------                   --------------  -----  \n",
      " 0   Age                      20 non-null     int64  \n",
      " 1   Gender                   20 non-null     int64  \n",
      " 2   Height (cm)              20 non-null     int64  \n",
      " 3   Weight (kg)              20 non-null     int64  \n",
      " 4   BMI                      20 non-null     float64\n",
      " 5   Physical Activity Level  20 non-null     int64  \n",
      " 6   Dietary Habits           20 non-null     int64  \n",
      " 7   Sleep Patterns           20 non-null     int64  \n",
      " 8   Stress Level             20 non-null     int64  \n",
      " 9   Past Surgeries           20 non-null     int64  \n",
      " 10  Chronic Conditions       20 non-null     float64\n",
      " 11  Allergies                20 non-null     int64  \n",
      " 12  Alcohol Consumption      20 non-null     int64  \n",
      " 13  Tobacco Use              20 non-null     int64  \n",
      " 14  Glucose (mg/dL)          20 non-null     int64  \n",
      " 15  Heart Rate (bpm)         20 non-null     int64  \n",
      " 16  Temperature (°C)         20 non-null     float64\n",
      " 17  Blood Test Parameters    20 non-null     object \n",
      " 18  Blood Test Date          20 non-null     object \n",
      " 19  Risk Score               20 non-null     float64\n",
      " 20  Blood Pressure (mm)      20 non-null     int64  \n",
      " 21  Blood Pressure (Hg)      20 non-null     object \n",
      "dtypes: float64(4), int64(15), object(3)\n",
      "memory usage: 3.6+ KB\n"
     ]
    }
   ],
   "source": [
    "df_cp.info()"
   ]
  },
  {
   "cell_type": "code",
   "execution_count": 458,
   "metadata": {},
   "outputs": [],
   "source": [
    "df_cp['Blood Pressure (Hg)']=df_cp['Blood Pressure (Hg)'].astype(int)\n"
   ]
  },
  {
   "cell_type": "code",
   "execution_count": 459,
   "metadata": {},
   "outputs": [
    {
     "name": "stdout",
     "output_type": "stream",
     "text": [
      "<class 'pandas.core.frame.DataFrame'>\n",
      "RangeIndex: 20 entries, 0 to 19\n",
      "Data columns (total 22 columns):\n",
      " #   Column                   Non-Null Count  Dtype  \n",
      "---  ------                   --------------  -----  \n",
      " 0   Age                      20 non-null     int64  \n",
      " 1   Gender                   20 non-null     int64  \n",
      " 2   Height (cm)              20 non-null     int64  \n",
      " 3   Weight (kg)              20 non-null     int64  \n",
      " 4   BMI                      20 non-null     float64\n",
      " 5   Physical Activity Level  20 non-null     int64  \n",
      " 6   Dietary Habits           20 non-null     int64  \n",
      " 7   Sleep Patterns           20 non-null     int64  \n",
      " 8   Stress Level             20 non-null     int64  \n",
      " 9   Past Surgeries           20 non-null     int64  \n",
      " 10  Chronic Conditions       20 non-null     float64\n",
      " 11  Allergies                20 non-null     int64  \n",
      " 12  Alcohol Consumption      20 non-null     int64  \n",
      " 13  Tobacco Use              20 non-null     int64  \n",
      " 14  Glucose (mg/dL)          20 non-null     int64  \n",
      " 15  Heart Rate (bpm)         20 non-null     int64  \n",
      " 16  Temperature (°C)         20 non-null     float64\n",
      " 17  Blood Test Parameters    20 non-null     object \n",
      " 18  Blood Test Date          20 non-null     object \n",
      " 19  Risk Score               20 non-null     float64\n",
      " 20  Blood Pressure (mm)      20 non-null     int64  \n",
      " 21  Blood Pressure (Hg)      20 non-null     int64  \n",
      "dtypes: float64(4), int64(16), object(2)\n",
      "memory usage: 3.6+ KB\n"
     ]
    }
   ],
   "source": [
    "df_cp.info()"
   ]
  },
  {
   "cell_type": "code",
   "execution_count": 460,
   "metadata": {},
   "outputs": [],
   "source": [
    "df_cp.drop(['Blood Test Parameters'],axis=1,inplace=True)"
   ]
  },
  {
   "cell_type": "code",
   "execution_count": 461,
   "metadata": {},
   "outputs": [],
   "source": [
    "date = df_cp['Blood Test Date']"
   ]
  },
  {
   "cell_type": "code",
   "execution_count": 462,
   "metadata": {},
   "outputs": [],
   "source": [
    "df_cp['Blood Test Date']=pd.to_datetime(df_cp['Blood Test Date'])"
   ]
  },
  {
   "cell_type": "code",
   "execution_count": 463,
   "metadata": {},
   "outputs": [],
   "source": [
    "\n",
    "df_cp['Chronic Conditions']=df_cp['Chronic Conditions'].astype(int)"
   ]
  },
  {
   "cell_type": "code",
   "execution_count": 464,
   "metadata": {},
   "outputs": [
    {
     "name": "stdout",
     "output_type": "stream",
     "text": [
      "<class 'pandas.core.frame.DataFrame'>\n",
      "RangeIndex: 20 entries, 0 to 19\n",
      "Data columns (total 21 columns):\n",
      " #   Column                   Non-Null Count  Dtype         \n",
      "---  ------                   --------------  -----         \n",
      " 0   Age                      20 non-null     int64         \n",
      " 1   Gender                   20 non-null     int64         \n",
      " 2   Height (cm)              20 non-null     int64         \n",
      " 3   Weight (kg)              20 non-null     int64         \n",
      " 4   BMI                      20 non-null     float64       \n",
      " 5   Physical Activity Level  20 non-null     int64         \n",
      " 6   Dietary Habits           20 non-null     int64         \n",
      " 7   Sleep Patterns           20 non-null     int64         \n",
      " 8   Stress Level             20 non-null     int64         \n",
      " 9   Past Surgeries           20 non-null     int64         \n",
      " 10  Chronic Conditions       20 non-null     int64         \n",
      " 11  Allergies                20 non-null     int64         \n",
      " 12  Alcohol Consumption      20 non-null     int64         \n",
      " 13  Tobacco Use              20 non-null     int64         \n",
      " 14  Glucose (mg/dL)          20 non-null     int64         \n",
      " 15  Heart Rate (bpm)         20 non-null     int64         \n",
      " 16  Temperature (°C)         20 non-null     float64       \n",
      " 17  Blood Test Date          20 non-null     datetime64[ns]\n",
      " 18  Risk Score               20 non-null     float64       \n",
      " 19  Blood Pressure (mm)      20 non-null     int64         \n",
      " 20  Blood Pressure (Hg)      20 non-null     int64         \n",
      "dtypes: datetime64[ns](1), float64(3), int64(17)\n",
      "memory usage: 3.4 KB\n"
     ]
    }
   ],
   "source": [
    "df_cp.info()"
   ]
  },
  {
   "cell_type": "code",
   "execution_count": 465,
   "metadata": {},
   "outputs": [],
   "source": [
    "x=df_cp.drop(['Risk Score'],axis=1)"
   ]
  },
  {
   "cell_type": "code",
   "execution_count": 466,
   "metadata": {},
   "outputs": [
    {
     "data": {
      "text/plain": [
       "Age                        0\n",
       "Gender                     0\n",
       "Height (cm)                0\n",
       "Weight (kg)                0\n",
       "BMI                        0\n",
       "Physical Activity Level    0\n",
       "Dietary Habits             0\n",
       "Sleep Patterns             0\n",
       "Stress Level               0\n",
       "Past Surgeries             0\n",
       "Chronic Conditions         0\n",
       "Allergies                  0\n",
       "Alcohol Consumption        0\n",
       "Tobacco Use                0\n",
       "Glucose (mg/dL)            0\n",
       "Heart Rate (bpm)           0\n",
       "Temperature (°C)           0\n",
       "Blood Test Date            0\n",
       "Blood Pressure (mm)        0\n",
       "Blood Pressure (Hg)        0\n",
       "dtype: int64"
      ]
     },
     "execution_count": 466,
     "metadata": {},
     "output_type": "execute_result"
    }
   ],
   "source": [
    "x.isna().sum()  # Ready"
   ]
  },
  {
   "cell_type": "code",
   "execution_count": 467,
   "metadata": {},
   "outputs": [],
   "source": [
    "y=df_cp['Risk Score']"
   ]
  },
  {
   "cell_type": "code",
   "execution_count": 468,
   "metadata": {},
   "outputs": [
    {
     "data": {
      "text/plain": [
       "array([1, 0])"
      ]
     },
     "execution_count": 468,
     "metadata": {},
     "output_type": "execute_result"
    }
   ],
   "source": [
    "df_cp['Past Surgeries'].unique()"
   ]
  },
  {
   "cell_type": "code",
   "execution_count": 469,
   "metadata": {},
   "outputs": [
    {
     "name": "stdout",
     "output_type": "stream",
     "text": [
      "<class 'pandas.core.frame.DataFrame'>\n",
      "RangeIndex: 20 entries, 0 to 19\n",
      "Data columns (total 21 columns):\n",
      " #   Column                   Non-Null Count  Dtype         \n",
      "---  ------                   --------------  -----         \n",
      " 0   Age                      20 non-null     int64         \n",
      " 1   Gender                   20 non-null     int64         \n",
      " 2   Height (cm)              20 non-null     int64         \n",
      " 3   Weight (kg)              20 non-null     int64         \n",
      " 4   BMI                      20 non-null     float64       \n",
      " 5   Physical Activity Level  20 non-null     int64         \n",
      " 6   Dietary Habits           20 non-null     int64         \n",
      " 7   Sleep Patterns           20 non-null     int64         \n",
      " 8   Stress Level             20 non-null     int64         \n",
      " 9   Past Surgeries           20 non-null     int64         \n",
      " 10  Chronic Conditions       20 non-null     int64         \n",
      " 11  Allergies                20 non-null     int64         \n",
      " 12  Alcohol Consumption      20 non-null     int64         \n",
      " 13  Tobacco Use              20 non-null     int64         \n",
      " 14  Glucose (mg/dL)          20 non-null     int64         \n",
      " 15  Heart Rate (bpm)         20 non-null     int64         \n",
      " 16  Temperature (°C)         20 non-null     float64       \n",
      " 17  Blood Test Date          20 non-null     datetime64[ns]\n",
      " 18  Risk Score               20 non-null     float64       \n",
      " 19  Blood Pressure (mm)      20 non-null     int64         \n",
      " 20  Blood Pressure (Hg)      20 non-null     int64         \n",
      "dtypes: datetime64[ns](1), float64(3), int64(17)\n",
      "memory usage: 3.4 KB\n"
     ]
    }
   ],
   "source": [
    "df_cp.info()"
   ]
  },
  {
   "cell_type": "code",
   "execution_count": 470,
   "metadata": {},
   "outputs": [],
   "source": [
    "new = pd.read_excel('new.xlsx')"
   ]
  },
  {
   "cell_type": "code",
   "execution_count": 473,
   "metadata": {},
   "outputs": [],
   "source": [
    "x.to_csv(\"ex1.csv\")"
   ]
  },
  {
   "cell_type": "code",
   "execution_count": 476,
   "metadata": {},
   "outputs": [
    {
     "data": {
      "text/html": [
       "<div>\n",
       "<style scoped>\n",
       "    .dataframe tbody tr th:only-of-type {\n",
       "        vertical-align: middle;\n",
       "    }\n",
       "\n",
       "    .dataframe tbody tr th {\n",
       "        vertical-align: top;\n",
       "    }\n",
       "\n",
       "    .dataframe thead th {\n",
       "        text-align: right;\n",
       "    }\n",
       "</style>\n",
       "<table border=\"1\" class=\"dataframe\">\n",
       "  <thead>\n",
       "    <tr style=\"text-align: right;\">\n",
       "      <th></th>\n",
       "      <th>Unnamed: 0</th>\n",
       "      <th>Age</th>\n",
       "      <th>Gender</th>\n",
       "      <th>Height (cm)</th>\n",
       "      <th>Weight (kg)</th>\n",
       "      <th>BMI</th>\n",
       "      <th>Physical Activity Level</th>\n",
       "      <th>Dietary Habits</th>\n",
       "      <th>Sleep Patterns</th>\n",
       "      <th>Stress Level</th>\n",
       "      <th>...</th>\n",
       "      <th>Chronic Conditions</th>\n",
       "      <th>Allergies</th>\n",
       "      <th>Alcohol Consumption</th>\n",
       "      <th>Tobacco Use</th>\n",
       "      <th>Glucose (mg/dL)</th>\n",
       "      <th>Heart Rate (bpm)</th>\n",
       "      <th>Temperature (°C)</th>\n",
       "      <th>Blood Test Date</th>\n",
       "      <th>Blood Pressure (mm)</th>\n",
       "      <th>Blood Pressure (Hg)</th>\n",
       "    </tr>\n",
       "  </thead>\n",
       "  <tbody>\n",
       "    <tr>\n",
       "      <th>20</th>\n",
       "      <td>18</td>\n",
       "      <td>1</td>\n",
       "      <td>170</td>\n",
       "      <td>65</td>\n",
       "      <td>22.5</td>\n",
       "      <td>1.0</td>\n",
       "      <td>1</td>\n",
       "      <td>8</td>\n",
       "      <td>0</td>\n",
       "      <td>0</td>\n",
       "      <td>...</td>\n",
       "      <td>0</td>\n",
       "      <td>1</td>\n",
       "      <td>0</td>\n",
       "      <td>85</td>\n",
       "      <td>70</td>\n",
       "      <td>37</td>\n",
       "      <td>2024-01-01</td>\n",
       "      <td>120</td>\n",
       "      <td>80</td>\n",
       "      <td>NaN</td>\n",
       "    </tr>\n",
       "    <tr>\n",
       "      <th>21</th>\n",
       "      <td>45</td>\n",
       "      <td>0</td>\n",
       "      <td>160</td>\n",
       "      <td>60</td>\n",
       "      <td>23.4</td>\n",
       "      <td>1.0</td>\n",
       "      <td>1</td>\n",
       "      <td>7</td>\n",
       "      <td>0</td>\n",
       "      <td>0</td>\n",
       "      <td>...</td>\n",
       "      <td>0</td>\n",
       "      <td>1</td>\n",
       "      <td>0</td>\n",
       "      <td>90</td>\n",
       "      <td>75</td>\n",
       "      <td>37</td>\n",
       "      <td>2024-01-01</td>\n",
       "      <td>120</td>\n",
       "      <td>80</td>\n",
       "      <td>NaN</td>\n",
       "    </tr>\n",
       "    <tr>\n",
       "      <th>22</th>\n",
       "      <td>34</td>\n",
       "      <td>1</td>\n",
       "      <td>175</td>\n",
       "      <td>70</td>\n",
       "      <td>22.9</td>\n",
       "      <td>1.0</td>\n",
       "      <td>1</td>\n",
       "      <td>8</td>\n",
       "      <td>0</td>\n",
       "      <td>0</td>\n",
       "      <td>...</td>\n",
       "      <td>0</td>\n",
       "      <td>1</td>\n",
       "      <td>0</td>\n",
       "      <td>88</td>\n",
       "      <td>72</td>\n",
       "      <td>37</td>\n",
       "      <td>2024-01-01</td>\n",
       "      <td>118</td>\n",
       "      <td>70</td>\n",
       "      <td>NaN</td>\n",
       "    </tr>\n",
       "  </tbody>\n",
       "</table>\n",
       "<p>3 rows × 21 columns</p>\n",
       "</div>"
      ],
      "text/plain": [
       "    Unnamed: 0  Age  Gender  Height (cm)  Weight (kg)  BMI  \\\n",
       "20          18    1     170           65         22.5  1.0   \n",
       "21          45    0     160           60         23.4  1.0   \n",
       "22          34    1     175           70         22.9  1.0   \n",
       "\n",
       "    Physical Activity Level  Dietary Habits  Sleep Patterns  Stress Level  \\\n",
       "20                        1               8               0             0   \n",
       "21                        1               7               0             0   \n",
       "22                        1               8               0             0   \n",
       "\n",
       "    ...  Chronic Conditions  Allergies  Alcohol Consumption  Tobacco Use  \\\n",
       "20  ...                   0          1                    0           85   \n",
       "21  ...                   0          1                    0           90   \n",
       "22  ...                   0          1                    0           88   \n",
       "\n",
       "    Glucose (mg/dL)  Heart Rate (bpm)  Temperature (°C) Blood Test Date  \\\n",
       "20               70                37        2024-01-01             120   \n",
       "21               75                37        2024-01-01             120   \n",
       "22               72                37        2024-01-01             118   \n",
       "\n",
       "   Blood Pressure (mm)  Blood Pressure (Hg)  \n",
       "20                  80                  NaN  \n",
       "21                  80                  NaN  \n",
       "22                  70                  NaN  \n",
       "\n",
       "[3 rows x 21 columns]"
      ]
     },
     "execution_count": 476,
     "metadata": {},
     "output_type": "execute_result"
    }
   ],
   "source": [
    "a=pd.read_csv('ex1.csv')\n",
    "\n",
    "a[a['Blood Pressure (Hg)'].isna()]"
   ]
  },
  {
   "cell_type": "code",
   "execution_count": 479,
   "metadata": {},
   "outputs": [],
   "source": [
    "df_cp.to_csv('ex1.csv')"
   ]
  },
  {
   "cell_type": "code",
   "execution_count": 481,
   "metadata": {},
   "outputs": [
    {
     "name": "stdout",
     "output_type": "stream",
     "text": [
      "<class 'pandas.core.frame.DataFrame'>\n",
      "RangeIndex: 20 entries, 0 to 19\n",
      "Data columns (total 21 columns):\n",
      " #   Column                   Non-Null Count  Dtype         \n",
      "---  ------                   --------------  -----         \n",
      " 0   Age                      20 non-null     int64         \n",
      " 1   Gender                   20 non-null     int64         \n",
      " 2   Height (cm)              20 non-null     int64         \n",
      " 3   Weight (kg)              20 non-null     int64         \n",
      " 4   BMI                      20 non-null     float64       \n",
      " 5   Physical Activity Level  20 non-null     int64         \n",
      " 6   Dietary Habits           20 non-null     int64         \n",
      " 7   Sleep Patterns           20 non-null     int64         \n",
      " 8   Stress Level             20 non-null     int64         \n",
      " 9   Past Surgeries           20 non-null     int64         \n",
      " 10  Chronic Conditions       20 non-null     int64         \n",
      " 11  Allergies                20 non-null     int64         \n",
      " 12  Alcohol Consumption      20 non-null     int64         \n",
      " 13  Tobacco Use              20 non-null     int64         \n",
      " 14  Glucose (mg/dL)          20 non-null     int64         \n",
      " 15  Heart Rate (bpm)         20 non-null     int64         \n",
      " 16  Temperature (°C)         20 non-null     float64       \n",
      " 17  Blood Test Date          20 non-null     datetime64[ns]\n",
      " 18  Risk Score               20 non-null     float64       \n",
      " 19  Blood Pressure (mm)      20 non-null     int64         \n",
      " 20  Blood Pressure (Hg)      20 non-null     int64         \n",
      "dtypes: datetime64[ns](1), float64(3), int64(17)\n",
      "memory usage: 3.4 KB\n"
     ]
    }
   ],
   "source": []
  },
  {
   "cell_type": "code",
   "execution_count": null,
   "metadata": {},
   "outputs": [],
   "source": []
  }
 ],
 "metadata": {
  "kernelspec": {
   "display_name": "Python 3",
   "language": "python",
   "name": "python3"
  },
  "language_info": {
   "codemirror_mode": {
    "name": "ipython",
    "version": 3
   },
   "file_extension": ".py",
   "mimetype": "text/x-python",
   "name": "python",
   "nbconvert_exporter": "python",
   "pygments_lexer": "ipython3",
   "version": "3.12.0"
  }
 },
 "nbformat": 4,
 "nbformat_minor": 2
}
