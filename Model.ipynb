{
 "cells": [
  {
   "cell_type": "markdown",
   "metadata": {},
   "source": [
    "## MODEL BUILDING - FROM PREPROCESSED"
   ]
  },
  {
   "cell_type": "code",
   "execution_count": 22,
   "metadata": {},
   "outputs": [],
   "source": [
    "import numpy as np\n",
    "\n",
    "import pandas as pd\n",
    "\n",
    "import seaborn as sns\n",
    "\n",
    "import matplotlib.pyplot as plt\n",
    "\n",
    "import warnings\n",
    "\n",
    "warnings.filterwarnings('ignore')\n",
    "\n",
    "%matplotlib inline"
   ]
  },
  {
   "cell_type": "code",
   "execution_count": 23,
   "metadata": {},
   "outputs": [],
   "source": [
    "df = pd.read_csv('ex1.csv')"
   ]
  },
  {
   "cell_type": "code",
   "execution_count": 24,
   "metadata": {},
   "outputs": [],
   "source": [
    "df.drop(['Unnamed: 0'],inplace=True,axis=1)"
   ]
  },
  {
   "cell_type": "code",
   "execution_count": 25,
   "metadata": {},
   "outputs": [],
   "source": [
    "df['Blood Test Date']=pd.to_datetime(df['Blood Test Date'])"
   ]
  },
  {
   "cell_type": "code",
   "execution_count": 26,
   "metadata": {},
   "outputs": [
    {
     "name": "stdout",
     "output_type": "stream",
     "text": [
      "<class 'pandas.core.frame.DataFrame'>\n",
      "RangeIndex: 20 entries, 0 to 19\n",
      "Data columns (total 21 columns):\n",
      " #   Column                   Non-Null Count  Dtype         \n",
      "---  ------                   --------------  -----         \n",
      " 0   Age                      20 non-null     int64         \n",
      " 1   Gender                   20 non-null     int64         \n",
      " 2   Height (cm)              20 non-null     int64         \n",
      " 3   Weight (kg)              20 non-null     int64         \n",
      " 4   BMI                      20 non-null     float64       \n",
      " 5   Physical Activity Level  20 non-null     int64         \n",
      " 6   Dietary Habits           20 non-null     int64         \n",
      " 7   Sleep Patterns           20 non-null     int64         \n",
      " 8   Stress Level             20 non-null     int64         \n",
      " 9   Past Surgeries           20 non-null     int64         \n",
      " 10  Chronic Conditions       20 non-null     int64         \n",
      " 11  Allergies                20 non-null     int64         \n",
      " 12  Alcohol Consumption      20 non-null     int64         \n",
      " 13  Tobacco Use              20 non-null     int64         \n",
      " 14  Glucose (mg/dL)          20 non-null     int64         \n",
      " 15  Heart Rate (bpm)         20 non-null     int64         \n",
      " 16  Temperature (°C)         20 non-null     float64       \n",
      " 17  Blood Test Date          20 non-null     datetime64[ns]\n",
      " 18  Risk Score               20 non-null     float64       \n",
      " 19  Blood Pressure (mm)      20 non-null     int64         \n",
      " 20  Blood Pressure (Hg)      20 non-null     int64         \n",
      "dtypes: datetime64[ns](1), float64(3), int64(17)\n",
      "memory usage: 3.4 KB\n"
     ]
    }
   ],
   "source": [
    "df.info()"
   ]
  },
  {
   "cell_type": "code",
   "execution_count": 27,
   "metadata": {},
   "outputs": [],
   "source": [
    "## Spliting Data\n",
    "\n",
    "\n",
    "x= df.drop(['Risk Score','Blood Test Date'],axis=1)"
   ]
  },
  {
   "cell_type": "code",
   "execution_count": 28,
   "metadata": {},
   "outputs": [
    {
     "name": "stdout",
     "output_type": "stream",
     "text": [
      "<class 'pandas.core.frame.DataFrame'>\n",
      "RangeIndex: 20 entries, 0 to 19\n",
      "Data columns (total 19 columns):\n",
      " #   Column                   Non-Null Count  Dtype  \n",
      "---  ------                   --------------  -----  \n",
      " 0   Age                      20 non-null     int64  \n",
      " 1   Gender                   20 non-null     int64  \n",
      " 2   Height (cm)              20 non-null     int64  \n",
      " 3   Weight (kg)              20 non-null     int64  \n",
      " 4   BMI                      20 non-null     float64\n",
      " 5   Physical Activity Level  20 non-null     int64  \n",
      " 6   Dietary Habits           20 non-null     int64  \n",
      " 7   Sleep Patterns           20 non-null     int64  \n",
      " 8   Stress Level             20 non-null     int64  \n",
      " 9   Past Surgeries           20 non-null     int64  \n",
      " 10  Chronic Conditions       20 non-null     int64  \n",
      " 11  Allergies                20 non-null     int64  \n",
      " 12  Alcohol Consumption      20 non-null     int64  \n",
      " 13  Tobacco Use              20 non-null     int64  \n",
      " 14  Glucose (mg/dL)          20 non-null     int64  \n",
      " 15  Heart Rate (bpm)         20 non-null     int64  \n",
      " 16  Temperature (°C)         20 non-null     float64\n",
      " 17  Blood Pressure (mm)      20 non-null     int64  \n",
      " 18  Blood Pressure (Hg)      20 non-null     int64  \n",
      "dtypes: float64(2), int64(17)\n",
      "memory usage: 3.1 KB\n"
     ]
    }
   ],
   "source": [
    "x.info()"
   ]
  },
  {
   "cell_type": "code",
   "execution_count": 29,
   "metadata": {},
   "outputs": [],
   "source": [
    "y=df['Risk Score']"
   ]
  },
  {
   "cell_type": "markdown",
   "metadata": {},
   "source": [
    "## Splitting into Train and Test"
   ]
  },
  {
   "cell_type": "code",
   "execution_count": 30,
   "metadata": {},
   "outputs": [],
   "source": [
    "from sklearn.model_selection import train_test_split\n",
    "\n",
    "x_train,x_test,y_train,y_test = train_test_split(x,y,test_size=0.2,random_state=42) "
   ]
  },
  {
   "cell_type": "code",
   "execution_count": 31,
   "metadata": {},
   "outputs": [
    {
     "data": {
      "text/plain": [
       "((4, 19), (16, 19))"
      ]
     },
     "execution_count": 31,
     "metadata": {},
     "output_type": "execute_result"
    }
   ],
   "source": [
    "x_test.shape,x_train.shape"
   ]
  },
  {
   "cell_type": "code",
   "execution_count": 32,
   "metadata": {},
   "outputs": [],
   "source": [
    "from sklearn.metrics import mean_absolute_error, mean_squared_error, mean_squared_log_error, r2_score\n",
    "import numpy as np\n",
    "def show_scores(model, x_train, x_test, y_train, y_test):\n",
    "  # Calculate the model's predictions\n",
    "  train_preds = model.predict(x_train)\n",
    "  test_preds = model.predict(x_test)\n",
    "\n",
    "  # Evaluate the model's performance using various metrics\n",
    "  mae_train = mean_absolute_error(y_train, train_preds)\n",
    "  mae_test = mean_absolute_error(y_test, test_preds)\n",
    "  mse_train = mean_squared_error(y_train, train_preds)\n",
    "  mse_test = mean_squared_error(y_test, test_preds)\n",
    "  r2_train = r2_score(y_train, train_preds)\n",
    "  r2_test = r2_score(y_test, test_preds)\n",
    "\n",
    "  # Print the results\n",
    "  print(\"Model:\", model.__class__.__name__)\n",
    "  print(\"-\" * 30)\n",
    "  print(\"Training set:\")\n",
    "  print(\"- RMSE:\", np.sqrt(mse_train))\n",
    "  print(\"- MAE:\", mae_train)\n",
    "  print(\"- R2 Score:\", r2_train)\n",
    "  print(\"-\" * 30)\n",
    "  print(\"Test set:\")\n",
    "  print(\"- RMSE:\", np.sqrt(mse_test))\n",
    "  print(\"- MAE:\", mae_test)\n",
    "  print(\"- R2 Score:\", r2_test)"
   ]
  },
  {
   "cell_type": "code",
   "execution_count": 33,
   "metadata": {},
   "outputs": [],
   "source": [
    "# XGBoost Regressor\n",
    "from xgboost import XGBRegressor\n",
    "xgb = XGBRegressor()\n",
    "# Random Forest Regressor\n",
    "from sklearn.ensemble import RandomForestRegressor\n",
    "rf = RandomForestRegressor()\n",
    "# Decision Tree Regressor\n",
    "from sklearn.tree import DecisionTreeRegressor\n",
    "dt = DecisionTreeRegressor()\n",
    "# Linear Regression\n",
    "from sklearn.linear_model import LinearRegression\n",
    "lr = LinearRegression()\n",
    "# lasso\n",
    "from sklearn.linear_model import Lasso\n",
    "lasso = Lasso()\n",
    "# Ridge\n",
    "from sklearn.linear_model import Ridge\n",
    "ridge = Ridge()\n",
    "# ElasticNet\n",
    "from sklearn.linear_model import ElasticNet\n",
    "en = ElasticNet()"
   ]
  },
  {
   "cell_type": "code",
   "execution_count": 34,
   "metadata": {},
   "outputs": [
    {
     "name": "stdout",
     "output_type": "stream",
     "text": [
      "Model: XGBRegressor\n",
      "------------------------------\n",
      "Training set:\n",
      "- RMSE: 0.0005017446853493168\n",
      "- MAE: 0.0003885820508003346\n",
      "- R2 Score: 0.9999921020320227\n",
      "------------------------------\n",
      "Test set:\n",
      "- RMSE: 0.20346717797181837\n",
      "- MAE: 0.16837383806705475\n",
      "- R2 Score: 0.33761771981095023\n",
      "\n",
      "\n",
      "Model: RandomForestRegressor\n",
      "------------------------------\n",
      "Training set:\n",
      "- RMSE: 0.07515982969645425\n",
      "- MAE: 0.06512499999999993\n",
      "- R2 Score: 0.8227764705882351\n",
      "------------------------------\n",
      "Test set:\n",
      "- RMSE: 0.22162919482775725\n",
      "- MAE: 0.21749999999999997\n",
      "- R2 Score: 0.21408800000000028\n",
      "\n",
      "\n",
      "Model: DecisionTreeRegressor\n",
      "------------------------------\n",
      "Training set:\n",
      "- RMSE: 0.0\n",
      "- MAE: 0.0\n",
      "- R2 Score: 1.0\n",
      "------------------------------\n",
      "Test set:\n",
      "- RMSE: 0.18027756377319948\n",
      "- MAE: 0.125\n",
      "- R2 Score: 0.48\n",
      "\n",
      "\n",
      "Model: LinearRegression\n",
      "------------------------------\n",
      "Training set:\n",
      "- RMSE: 3.2425355437371536e-15\n",
      "- MAE: 2.4980018054066022e-15\n",
      "- R2 Score: 1.0\n",
      "------------------------------\n",
      "Test set:\n",
      "- RMSE: 0.34341812845113345\n",
      "- MAE: 0.2774017583937951\n",
      "- R2 Score: -0.8869761751820673\n",
      "\n",
      "\n",
      "Model: Lasso\n",
      "------------------------------\n",
      "Training set:\n",
      "- RMSE: 0.1514542811563131\n",
      "- MAE: 0.12353866906474817\n",
      "- R2 Score: 0.2803639441388066\n",
      "------------------------------\n",
      "Test set:\n",
      "- RMSE: 0.28271899617023877\n",
      "- MAE: 0.2702338129496403\n",
      "- R2 Score: -0.27888049272811966\n",
      "\n",
      "\n",
      "Model: Ridge\n",
      "------------------------------\n",
      "Training set:\n",
      "- RMSE: 0.03970890005035561\n",
      "- MAE: 0.033795802677363096\n",
      "- R2 Score: 0.9505318668797135\n",
      "------------------------------\n",
      "Test set:\n",
      "- RMSE: 0.19525450900186192\n",
      "- MAE: 0.16149993605199808\n",
      "- R2 Score: 0.3900108274310692\n",
      "\n",
      "\n",
      "Model: ElasticNet\n",
      "------------------------------\n",
      "Training set:\n",
      "- RMSE: 0.14628946509163968\n",
      "- MAE: 0.1133694815195072\n",
      "- R2 Score: 0.32860838912006085\n",
      "------------------------------\n",
      "Test set:\n",
      "- RMSE: 0.2901873404579443\n",
      "- MAE: 0.27791324435318276\n",
      "- R2 Score: -0.34733908099287825\n",
      "\n",
      "\n"
     ]
    }
   ],
   "source": [
    "models = [xgb, rf, dt, lr, lasso, ridge, en]\n",
    "model_names = [model.__class__.__name__ for model in models]\n",
    "for model in models:\n",
    "    model.fit(x_train, y_train)\n",
    "    show_scores(model, x_train, x_test, y_train, y_test)\n",
    "    print(\"\\n\")"
   ]
  },
  {
   "cell_type": "code",
   "execution_count": 35,
   "metadata": {},
   "outputs": [
    {
     "data": {
      "text/html": [
       "<div>\n",
       "<style scoped>\n",
       "    .dataframe tbody tr th:only-of-type {\n",
       "        vertical-align: middle;\n",
       "    }\n",
       "\n",
       "    .dataframe tbody tr th {\n",
       "        vertical-align: top;\n",
       "    }\n",
       "\n",
       "    .dataframe thead th {\n",
       "        text-align: right;\n",
       "    }\n",
       "</style>\n",
       "<table border=\"1\" class=\"dataframe\">\n",
       "  <thead>\n",
       "    <tr style=\"text-align: right;\">\n",
       "      <th></th>\n",
       "      <th>Age</th>\n",
       "      <th>Gender</th>\n",
       "      <th>Height (cm)</th>\n",
       "      <th>Weight (kg)</th>\n",
       "      <th>BMI</th>\n",
       "      <th>Physical Activity Level</th>\n",
       "      <th>Dietary Habits</th>\n",
       "      <th>Sleep Patterns</th>\n",
       "      <th>Stress Level</th>\n",
       "      <th>Past Surgeries</th>\n",
       "      <th>Chronic Conditions</th>\n",
       "      <th>Allergies</th>\n",
       "      <th>Alcohol Consumption</th>\n",
       "      <th>Tobacco Use</th>\n",
       "      <th>Glucose (mg/dL)</th>\n",
       "      <th>Heart Rate (bpm)</th>\n",
       "      <th>Temperature (°C)</th>\n",
       "      <th>Blood Pressure (mm)</th>\n",
       "      <th>Blood Pressure (Hg)</th>\n",
       "    </tr>\n",
       "  </thead>\n",
       "  <tbody>\n",
       "    <tr>\n",
       "      <th>8</th>\n",
       "      <td>49</td>\n",
       "      <td>0</td>\n",
       "      <td>152</td>\n",
       "      <td>68</td>\n",
       "      <td>29.4</td>\n",
       "      <td>0</td>\n",
       "      <td>2</td>\n",
       "      <td>8</td>\n",
       "      <td>1</td>\n",
       "      <td>1</td>\n",
       "      <td>2</td>\n",
       "      <td>1</td>\n",
       "      <td>1</td>\n",
       "      <td>1</td>\n",
       "      <td>143</td>\n",
       "      <td>77</td>\n",
       "      <td>37.2</td>\n",
       "      <td>120</td>\n",
       "      <td>80</td>\n",
       "    </tr>\n",
       "  </tbody>\n",
       "</table>\n",
       "</div>"
      ],
      "text/plain": [
       "   Age  Gender  Height (cm)  Weight (kg)   BMI  Physical Activity Level  \\\n",
       "8   49       0          152           68  29.4                        0   \n",
       "\n",
       "   Dietary Habits  Sleep Patterns  Stress Level  Past Surgeries  \\\n",
       "8               2               8             1               1   \n",
       "\n",
       "   Chronic Conditions  Allergies  Alcohol Consumption  Tobacco Use  \\\n",
       "8                   2          1                    1            1   \n",
       "\n",
       "   Glucose (mg/dL)  Heart Rate (bpm)  Temperature (°C)  Blood Pressure (mm)  \\\n",
       "8              143                77              37.2                  120   \n",
       "\n",
       "   Blood Pressure (Hg)  \n",
       "8                   80  "
      ]
     },
     "execution_count": 35,
     "metadata": {},
     "output_type": "execute_result"
    }
   ],
   "source": [
    "x_train.head(1)"
   ]
  },
  {
   "cell_type": "code",
   "execution_count": 36,
   "metadata": {},
   "outputs": [
    {
     "data": {
      "text/plain": [
       "array([0.886707], dtype=float32)"
      ]
     },
     "execution_count": 36,
     "metadata": {},
     "output_type": "execute_result"
    }
   ],
   "source": [
    "xgb.predict(pd.DataFrame({'Age':67,'Gender':1,'Height (cm)':190,'Weight (kg)':300,'BMI':59.4,'Physical Activity Level':0,'Dietary Habits':1,'Sleep Patterns':2,'Stress Level':2,'Past Surgeries':1,'Chronic Conditions':3,'Allergies':3,'Alcohol Consumption':3,'Tobacco Use':1,'Glucose (mg/dL)':180,'Heart Rate (bpm)':89,'Temperature (°C)':40.4,'Blood Pressure (mm)':180,'Blood Pressure (Hg)':1},index=[0]))"
   ]
  },
  {
   "cell_type": "code",
   "execution_count": 37,
   "metadata": {},
   "outputs": [
    {
     "data": {
      "text/plain": [
       "<Axes: >"
      ]
     },
     "execution_count": 37,
     "metadata": {},
     "output_type": "execute_result"
    },
    {
     "data": {
      "image/png": "[encoded data removed]",
      "text/plain": [
       "<Figure size 1500x1600 with 2 Axes>"
      ]
     },
     "metadata": {},
     "output_type": "display_data"
    }
   ],
   "source": [
    "plt.figure(figsize=(15,16))\n",
    "sns.heatmap(x_train)"
   ]
  },
  {
   "cell_type": "code",
   "execution_count": 38,
   "metadata": {},
   "outputs": [
    {
     "data": {
      "text/plain": [
       "['NxtGenHealth']"
      ]
     },
     "execution_count": 38,
     "metadata": {},
     "output_type": "execute_result"
    }
   ],
   "source": [
    "# Best model is XGBoost Regressor\n",
    "# Save the model\n",
    "import joblib\n",
    "joblib.dump(xgb, \"NxtGenHealth\")"
   ]
  },
  {
   "cell_type": "code",
   "execution_count": 39,
   "metadata": {},
   "outputs": [
    {
     "data": {
      "text/plain": [
       "<bound method XGBModel.get_params of XGBRegressor(base_score=None, booster=None, callbacks=None,\n",
       "             colsample_bylevel=None, colsample_bynode=None,\n",
       "             colsample_bytree=None, device=None, early_stopping_rounds=None,\n",
       "             enable_categorical=False, eval_metric=None, feature_types=None,\n",
       "             gamma=None, grow_policy=None, importance_type=None,\n",
       "             interaction_constraints=None, learning_rate=None, max_bin=None,\n",
       "             max_cat_threshold=None, max_cat_to_onehot=None,\n",
       "             max_delta_step=None, max_depth=None, max_leaves=None,\n",
       "             min_child_weight=None, missing=nan, monotone_constraints=None,\n",
       "             multi_strategy=None, n_estimators=None, n_jobs=None,\n",
       "             num_parallel_tree=None, random_state=None, ...)>"
      ]
     },
     "execution_count": 39,
     "metadata": {},
     "output_type": "execute_result"
    }
   ],
   "source": [
    "xgb.get_params"
   ]
  },
  {
   "cell_type": "code",
   "execution_count": null,
   "metadata": {},
   "outputs": [],
   "source": []
  }
 ],
 "metadata": {
  "kernelspec": {
   "display_name": "Python 3",
   "language": "python",
   "name": "python3"
  },
  "language_info": {
   "codemirror_mode": {
    "name": "ipython",
    "version": 3
   },
   "file_extension": ".py",
   "mimetype": "text/x-python",
   "name": "python",
   "nbconvert_exporter": "python",
   "pygments_lexer": "ipython3",
   "version": "3.12.0"
  }
 },
 "nbformat": 4,
 "nbformat_minor": 2
}
